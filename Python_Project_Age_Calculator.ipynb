{
  "nbformat": 4,
  "nbformat_minor": 0,
  "metadata": {
    "colab": {
      "provenance": []
    },
    "kernelspec": {
      "name": "python3",
      "display_name": "Python 3"
    },
    "language_info": {
      "name": "python"
    }
  },
  "cells": [
    {
      "cell_type": "code",
      "source": [
        "class AgeCalculator:\n",
        "    # Define conversion factors\n",
        "    seconds_in_a_minute = 60\n",
        "    minutes_in_an_hour = 60\n",
        "    hours_in_a_day = 24\n",
        "    days_in_a_week = 7\n",
        "    weeks_in_a_month = 4.34  # Average weeks in a month\n",
        "    months_in_a_year = 12\n",
        "\n",
        "    @classmethod\n",
        "    def age_to_time_units(cls, age):\n",
        "        return {\n",
        "            'Months': age * 12,\n",
        "            'Weeks': age * 12 * 4.345,\n",
        "            'Days': age * 12 * 30,  # Average days in a month\n",
        "            'Hours': age * 12 * 30 * 24,\n",
        "            'Minutes': age * 12 * 30 * 24 * 60,\n",
        "            'Seconds': age * 12 * 30 * 24 * 60 * 60\n",
        "        }\n",
        "\n",
        "def main():\n",
        "    age = int(input(\"What's your age? \"))\n",
        "    time_units = ['Months', 'Weeks', 'Days', 'Hours', 'Minutes', 'Seconds']\n",
        "\n",
        "    unit_input = input(\"Please choose time unit (Months, Weeks, Days, Hours, Minutes, Seconds): \").strip().lower()\n",
        "\n",
        "    # Determine the correct unit\n",
        "    chosen_unit = next((unit for unit in time_units if unit.lower().startswith(unit_input)), None)\n",
        "\n",
        "    if chosen_unit:\n",
        "        durations = AgeCalculator.age_to_time_units(age)\n",
        "        print(f\"You lived for {int(durations[chosen_unit])} {chosen_unit}\")\n",
        "    else:\n",
        "        print(\"Invalid time unit selected.\")\n",
        "\n",
        "if __name__ == \"__main__\":\n",
        "    main()"
      ],
      "metadata": {
        "colab": {
          "base_uri": "https://localhost:8080/"
        },
        "id": "FCpxoRVjEMUx",
        "outputId": "b25dfe97-6b09-4724-b944-4f559c385774"
      },
      "execution_count": null,
      "outputs": [
        {
          "output_type": "stream",
          "name": "stdout",
          "text": [
            "What's your age? 3\n",
            "Please choose time unit (Months, Weeks, Days, Hours, Minutes, Seconds): m\n",
            "You lived for 36 Months\n"
          ]
        }
      ]
    }
  ]
}